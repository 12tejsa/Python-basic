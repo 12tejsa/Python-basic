{
 "cells": [
  {
   "cell_type": "code",
   "execution_count": 118,
   "id": "06543afc",
   "metadata": {},
   "outputs": [],
   "source": [
    "l = [1,2,3,12,\"Tejass\",True,45-12,1212.1212]"
   ]
  },
  {
   "cell_type": "code",
   "execution_count": 38,
   "id": "dedb807a",
   "metadata": {},
   "outputs": [
    {
     "data": {
      "text/plain": [
       "[1, 2, 3, 12, 'Tejass', True, 33, 1212.1212]"
      ]
     },
     "execution_count": 38,
     "metadata": {},
     "output_type": "execute_result"
    }
   ],
   "source": [
    "l"
   ]
  },
  {
   "cell_type": "code",
   "execution_count": 39,
   "id": "52f82d95",
   "metadata": {},
   "outputs": [
    {
     "data": {
      "text/plain": [
       "list"
      ]
     },
     "execution_count": 39,
     "metadata": {},
     "output_type": "execute_result"
    }
   ],
   "source": [
    "type(l)"
   ]
  },
  {
   "cell_type": "code",
   "execution_count": 40,
   "id": "593ffa71",
   "metadata": {},
   "outputs": [
    {
     "data": {
      "text/plain": [
       "1"
      ]
     },
     "execution_count": 40,
     "metadata": {},
     "output_type": "execute_result"
    }
   ],
   "source": [
    "l[0]"
   ]
  },
  {
   "cell_type": "code",
   "execution_count": 41,
   "id": "5ae5f1b2",
   "metadata": {},
   "outputs": [
    {
     "ename": "IndexError",
     "evalue": "list index out of range",
     "output_type": "error",
     "traceback": [
      "\u001b[0;31m---------------------------------------------------------------------------\u001b[0m",
      "\u001b[0;31mIndexError\u001b[0m                                Traceback (most recent call last)",
      "Cell \u001b[0;32mIn[41], line 1\u001b[0m\n\u001b[0;32m----> 1\u001b[0m l[\u001b[38;5;241m90\u001b[39m]\n",
      "\u001b[0;31mIndexError\u001b[0m: list index out of range"
     ]
    }
   ],
   "source": [
    "l[90]"
   ]
  },
  {
   "cell_type": "code",
   "execution_count": 42,
   "id": "dc4b0ffa",
   "metadata": {},
   "outputs": [
    {
     "data": {
      "text/plain": [
       "[1, 2, 3, 12, 'Tejass', True, 33, 1212.1212]"
      ]
     },
     "execution_count": 42,
     "metadata": {},
     "output_type": "execute_result"
    }
   ],
   "source": [
    "l[0:12]"
   ]
  },
  {
   "cell_type": "code",
   "execution_count": 43,
   "id": "c323c8e4",
   "metadata": {},
   "outputs": [
    {
     "data": {
      "text/plain": [
       "[1212.1212, 33, True, 'Tejass', 12, 3, 2, 1]"
      ]
     },
     "execution_count": 43,
     "metadata": {},
     "output_type": "execute_result"
    }
   ],
   "source": [
    "l[::-1]"
   ]
  },
  {
   "cell_type": "code",
   "execution_count": 44,
   "id": "8306a132",
   "metadata": {},
   "outputs": [],
   "source": [
    "s = \"pwskills\""
   ]
  },
  {
   "cell_type": "code",
   "execution_count": 45,
   "id": "617c7ce8",
   "metadata": {},
   "outputs": [
    {
     "ename": "TypeError",
     "evalue": "can only concatenate list (not \"str\") to list",
     "output_type": "error",
     "traceback": [
      "\u001b[0;31m---------------------------------------------------------------------------\u001b[0m",
      "\u001b[0;31mTypeError\u001b[0m                                 Traceback (most recent call last)",
      "Cell \u001b[0;32mIn[45], line 1\u001b[0m\n\u001b[0;32m----> 1\u001b[0m l\u001b[38;5;241m+\u001b[39ms\n",
      "\u001b[0;31mTypeError\u001b[0m: can only concatenate list (not \"str\") to list"
     ]
    }
   ],
   "source": [
    "l+s"
   ]
  },
  {
   "cell_type": "code",
   "execution_count": 46,
   "id": "2003ed11",
   "metadata": {},
   "outputs": [
    {
     "data": {
      "text/plain": [
       "['p',\n",
       " 'w',\n",
       " 's',\n",
       " 'k',\n",
       " 'i',\n",
       " 'l',\n",
       " 'l',\n",
       " 's',\n",
       " 1,\n",
       " 2,\n",
       " 3,\n",
       " 12,\n",
       " 'Tejass',\n",
       " True,\n",
       " 33,\n",
       " 1212.1212]"
      ]
     },
     "execution_count": 46,
     "metadata": {},
     "output_type": "execute_result"
    }
   ],
   "source": [
    "list(s) + l"
   ]
  },
  {
   "cell_type": "code",
   "execution_count": 47,
   "id": "9ccbf4b5",
   "metadata": {},
   "outputs": [
    {
     "data": {
      "text/plain": [
       "float"
      ]
     },
     "execution_count": 47,
     "metadata": {},
     "output_type": "execute_result"
    }
   ],
   "source": [
    "type(l[7])"
   ]
  },
  {
   "cell_type": "code",
   "execution_count": 48,
   "id": "a7082433",
   "metadata": {},
   "outputs": [
    {
     "data": {
      "text/plain": [
       "'Tjs'"
      ]
     },
     "execution_count": 48,
     "metadata": {},
     "output_type": "execute_result"
    }
   ],
   "source": [
    "l[4][0::2]"
   ]
  },
  {
   "cell_type": "code",
   "execution_count": 49,
   "id": "c5c87db8",
   "metadata": {},
   "outputs": [
    {
     "data": {
      "text/plain": [
       "'ssajeT'"
      ]
     },
     "execution_count": 49,
     "metadata": {},
     "output_type": "execute_result"
    }
   ],
   "source": [
    "str(l[4])[-1::-1]"
   ]
  },
  {
   "cell_type": "code",
   "execution_count": 50,
   "id": "65032687",
   "metadata": {},
   "outputs": [
    {
     "data": {
      "text/plain": [
       "8"
      ]
     },
     "execution_count": 50,
     "metadata": {},
     "output_type": "execute_result"
    }
   ],
   "source": [
    "len(l)"
   ]
  },
  {
   "cell_type": "code",
   "execution_count": 51,
   "id": "e2abb2b5",
   "metadata": {},
   "outputs": [
    {
     "data": {
      "text/plain": [
       "6"
      ]
     },
     "execution_count": 51,
     "metadata": {},
     "output_type": "execute_result"
    }
   ],
   "source": [
    "len(l[4])"
   ]
  },
  {
   "cell_type": "code",
   "execution_count": 53,
   "id": "7ee46b10",
   "metadata": {},
   "outputs": [],
   "source": [
    "l.append(5)"
   ]
  },
  {
   "cell_type": "code",
   "execution_count": 119,
   "id": "b2006bfc",
   "metadata": {},
   "outputs": [
    {
     "data": {
      "text/plain": [
       "[1, 2, 3, 12, 'Tejass', True, 33, 1212.1212]"
      ]
     },
     "execution_count": 119,
     "metadata": {},
     "output_type": "execute_result"
    }
   ],
   "source": [
    "l"
   ]
  },
  {
   "cell_type": "code",
   "execution_count": 55,
   "id": "b16bc80d",
   "metadata": {},
   "outputs": [],
   "source": [
    "l.append(12)"
   ]
  },
  {
   "cell_type": "code",
   "execution_count": 56,
   "id": "011c4966",
   "metadata": {},
   "outputs": [
    {
     "data": {
      "text/plain": [
       "[1, 2, 3, 12, 'Tejass', True, 33, 1212.1212, 5, 12]"
      ]
     },
     "execution_count": 56,
     "metadata": {},
     "output_type": "execute_result"
    }
   ],
   "source": [
    "l"
   ]
  },
  {
   "cell_type": "code",
   "execution_count": 59,
   "id": "ec557995",
   "metadata": {},
   "outputs": [],
   "source": [
    "l.extend(\"lol\")"
   ]
  },
  {
   "cell_type": "code",
   "execution_count": 60,
   "id": "d3c71bf6",
   "metadata": {},
   "outputs": [
    {
     "data": {
      "text/plain": [
       "[1, 2, 3, 12, 'Tejass', True, 33, 1212.1212, 5, 12, 'l', 'o', 'l']"
      ]
     },
     "execution_count": 60,
     "metadata": {},
     "output_type": "execute_result"
    }
   ],
   "source": [
    "l"
   ]
  },
  {
   "cell_type": "code",
   "execution_count": 61,
   "id": "8a48f7a4",
   "metadata": {},
   "outputs": [
    {
     "data": {
      "text/plain": [
       "[1, 2, 3, 12, 'Tejass', True, 33, 1212.1212, 5, 12, 'l', 'o', 'l']"
      ]
     },
     "execution_count": 61,
     "metadata": {},
     "output_type": "execute_result"
    }
   ],
   "source": [
    "l"
   ]
  },
  {
   "cell_type": "code",
   "execution_count": 62,
   "id": "8528e5d6",
   "metadata": {},
   "outputs": [],
   "source": [
    "l.extend([3,4,5])"
   ]
  },
  {
   "cell_type": "code",
   "execution_count": 63,
   "id": "be29ab51",
   "metadata": {},
   "outputs": [
    {
     "data": {
      "text/plain": [
       "[1, 2, 3, 12, 'Tejass', True, 33, 1212.1212, 5, 12, 'l', 'o', 'l', 3, 4, 5]"
      ]
     },
     "execution_count": 63,
     "metadata": {},
     "output_type": "execute_result"
    }
   ],
   "source": [
    "l"
   ]
  },
  {
   "cell_type": "code",
   "execution_count": 64,
   "id": "6e2f3bd0",
   "metadata": {},
   "outputs": [],
   "source": [
    "l.insert(1,\"sudh\")"
   ]
  },
  {
   "cell_type": "code",
   "execution_count": 65,
   "id": "a66aee6f",
   "metadata": {},
   "outputs": [
    {
     "data": {
      "text/plain": [
       "[1,\n",
       " 'sudh',\n",
       " 2,\n",
       " 3,\n",
       " 12,\n",
       " 'Tejass',\n",
       " True,\n",
       " 33,\n",
       " 1212.1212,\n",
       " 5,\n",
       " 12,\n",
       " 'l',\n",
       " 'o',\n",
       " 'l',\n",
       " 3,\n",
       " 4,\n",
       " 5]"
      ]
     },
     "execution_count": 65,
     "metadata": {},
     "output_type": "execute_result"
    }
   ],
   "source": [
    "l"
   ]
  },
  {
   "cell_type": "code",
   "execution_count": 69,
   "id": "3235ef64",
   "metadata": {},
   "outputs": [],
   "source": [
    "l.insert(0,\"sudh\")"
   ]
  },
  {
   "cell_type": "code",
   "execution_count": 70,
   "id": "33ca98cf",
   "metadata": {},
   "outputs": [
    {
     "data": {
      "text/plain": [
       "['sudh',\n",
       " 1,\n",
       " 'sudh',\n",
       " 'sudh',\n",
       " 2,\n",
       " 3,\n",
       " 12,\n",
       " 'Tejass',\n",
       " True,\n",
       " 33,\n",
       " 1212.1212,\n",
       " 5,\n",
       " 12,\n",
       " 'l',\n",
       " 'o',\n",
       " 'l',\n",
       " 3,\n",
       " 4,\n",
       " 5]"
      ]
     },
     "execution_count": 70,
     "metadata": {},
     "output_type": "execute_result"
    }
   ],
   "source": [
    "l"
   ]
  },
  {
   "cell_type": "code",
   "execution_count": 71,
   "id": "f418e317",
   "metadata": {},
   "outputs": [],
   "source": [
    "l1 = l "
   ]
  },
  {
   "cell_type": "code",
   "execution_count": 72,
   "id": "497c50fa",
   "metadata": {},
   "outputs": [
    {
     "data": {
      "text/plain": [
       "['sudh',\n",
       " 1,\n",
       " 'sudh',\n",
       " 'sudh',\n",
       " 2,\n",
       " 3,\n",
       " 12,\n",
       " 'Tejass',\n",
       " True,\n",
       " 33,\n",
       " 1212.1212,\n",
       " 5,\n",
       " 12,\n",
       " 'l',\n",
       " 'o',\n",
       " 'l',\n",
       " 3,\n",
       " 4,\n",
       " 5]"
      ]
     },
     "execution_count": 72,
     "metadata": {},
     "output_type": "execute_result"
    }
   ],
   "source": [
    "l1 "
   ]
  },
  {
   "cell_type": "code",
   "execution_count": 95,
   "id": "e22c8515",
   "metadata": {},
   "outputs": [],
   "source": [
    "l1.insert(0,'Tejas')"
   ]
  },
  {
   "cell_type": "code",
   "execution_count": 120,
   "id": "5ca0166f",
   "metadata": {},
   "outputs": [
    {
     "data": {
      "text/plain": [
       "['Tejas']"
      ]
     },
     "execution_count": 120,
     "metadata": {},
     "output_type": "execute_result"
    }
   ],
   "source": [
    "l1"
   ]
  },
  {
   "cell_type": "code",
   "execution_count": 121,
   "id": "106dcbbb",
   "metadata": {},
   "outputs": [
    {
     "data": {
      "text/plain": [
       "['Tejas']"
      ]
     },
     "execution_count": 121,
     "metadata": {},
     "output_type": "execute_result"
    }
   ],
   "source": [
    "l1"
   ]
  },
  {
   "cell_type": "code",
   "execution_count": 122,
   "id": "d60d0a01",
   "metadata": {},
   "outputs": [],
   "source": [
    "l1 = l"
   ]
  },
  {
   "cell_type": "code",
   "execution_count": 123,
   "id": "1b2d675e",
   "metadata": {},
   "outputs": [
    {
     "data": {
      "text/plain": [
       "[1, 2, 3, 12, 'Tejass', True, 33, 1212.1212]"
      ]
     },
     "execution_count": 123,
     "metadata": {},
     "output_type": "execute_result"
    }
   ],
   "source": [
    "l1"
   ]
  },
  {
   "cell_type": "code",
   "execution_count": 124,
   "id": "b1592090",
   "metadata": {},
   "outputs": [],
   "source": [
    "l1.remove(2)"
   ]
  },
  {
   "cell_type": "code",
   "execution_count": 125,
   "id": "57404af0",
   "metadata": {},
   "outputs": [
    {
     "data": {
      "text/plain": [
       "[1, 3, 12, 'Tejass', True, 33, 1212.1212]"
      ]
     },
     "execution_count": 125,
     "metadata": {},
     "output_type": "execute_result"
    }
   ],
   "source": [
    "l1"
   ]
  },
  {
   "cell_type": "code",
   "execution_count": 129,
   "id": "a339c08b",
   "metadata": {},
   "outputs": [],
   "source": [
    "l1.append('lol')"
   ]
  },
  {
   "cell_type": "code",
   "execution_count": 132,
   "id": "4b36741a",
   "metadata": {},
   "outputs": [
    {
     "data": {
      "text/plain": [
       "'lol'"
      ]
     },
     "execution_count": 132,
     "metadata": {},
     "output_type": "execute_result"
    }
   ],
   "source": [
    "l1.pop()"
   ]
  },
  {
   "cell_type": "code",
   "execution_count": 133,
   "id": "87c59733",
   "metadata": {},
   "outputs": [
    {
     "data": {
      "text/plain": [
       "[1, 3, 12, 'Tejass', True, 33, 1212.1212, 'lol']"
      ]
     },
     "execution_count": 133,
     "metadata": {},
     "output_type": "execute_result"
    }
   ],
   "source": [
    "l1"
   ]
  },
  {
   "cell_type": "code",
   "execution_count": 134,
   "id": "5fb09f0b",
   "metadata": {},
   "outputs": [
    {
     "data": {
      "text/plain": [
       "'pwakilla'"
      ]
     },
     "execution_count": 134,
     "metadata": {},
     "output_type": "execute_result"
    }
   ],
   "source": [
    "s.replace('s','a')"
   ]
  },
  {
   "cell_type": "code",
   "execution_count": 141,
   "id": "efd09738",
   "metadata": {},
   "outputs": [
    {
     "data": {
      "text/plain": [
       "1"
      ]
     },
     "execution_count": 141,
     "metadata": {},
     "output_type": "execute_result"
    }
   ],
   "source": [
    "l1.count(12)"
   ]
  },
  {
   "cell_type": "code",
   "execution_count": 144,
   "id": "0f58f8e2",
   "metadata": {},
   "outputs": [
    {
     "data": {
      "text/plain": [
       "0"
      ]
     },
     "execution_count": 144,
     "metadata": {},
     "output_type": "execute_result"
    }
   ],
   "source": [
    "l1.index(True)"
   ]
  },
  {
   "cell_type": "code",
   "execution_count": 146,
   "id": "bc5df3b4",
   "metadata": {},
   "outputs": [
    {
     "data": {
      "text/plain": [
       "list"
      ]
     },
     "execution_count": 146,
     "metadata": {},
     "output_type": "execute_result"
    }
   ],
   "source": [
    "type(l1)"
   ]
  },
  {
   "cell_type": "code",
   "execution_count": 147,
   "id": "be20cdc6",
   "metadata": {},
   "outputs": [
    {
     "data": {
      "text/plain": [
       "list"
      ]
     },
     "execution_count": 147,
     "metadata": {},
     "output_type": "execute_result"
    }
   ],
   "source": [
    "type(l)"
   ]
  },
  {
   "cell_type": "code",
   "execution_count": 149,
   "id": "62085a63",
   "metadata": {},
   "outputs": [
    {
     "data": {
      "text/plain": [
       "[1, 3, 12, 'Tejass', True, 33, 1212.1212, 'lol']"
      ]
     },
     "execution_count": 149,
     "metadata": {},
     "output_type": "execute_result"
    }
   ],
   "source": [
    "l"
   ]
  },
  {
   "cell_type": "code",
   "execution_count": 150,
   "id": "a5b9da21",
   "metadata": {},
   "outputs": [],
   "source": [
    "l6 = [12,12,12,1,2,12,12,12,1,2,12,12,1,2]"
   ]
  },
  {
   "cell_type": "code",
   "execution_count": 151,
   "id": "a898e5a7",
   "metadata": {},
   "outputs": [
    {
     "data": {
      "text/plain": [
       "[12, 12, 12, 1, 2, 12, 12, 12, 1, 2, 12, 12, 1, 2]"
      ]
     },
     "execution_count": 151,
     "metadata": {},
     "output_type": "execute_result"
    }
   ],
   "source": [
    "l6"
   ]
  },
  {
   "cell_type": "code",
   "execution_count": 154,
   "id": "cb7aaf14",
   "metadata": {},
   "outputs": [],
   "source": [
    "s5 = {212,12,12,45,32,34,24,2,4,\"Tejas\",123,34} "
   ]
  },
  {
   "cell_type": "code",
   "execution_count": 156,
   "id": "4717da4a",
   "metadata": {},
   "outputs": [
    {
     "data": {
      "text/plain": [
       "{12, 123, 2, 212, 24, 32, 34, 4, 45, 'Tejas'}"
      ]
     },
     "execution_count": 156,
     "metadata": {},
     "output_type": "execute_result"
    }
   ],
   "source": [
    "s5"
   ]
  },
  {
   "cell_type": "code",
   "execution_count": 157,
   "id": "6ec7520d",
   "metadata": {},
   "outputs": [
    {
     "ename": "TypeError",
     "evalue": "'set' object is not subscriptable",
     "output_type": "error",
     "traceback": [
      "\u001b[0;31m---------------------------------------------------------------------------\u001b[0m",
      "\u001b[0;31mTypeError\u001b[0m                                 Traceback (most recent call last)",
      "Cell \u001b[0;32mIn[157], line 1\u001b[0m\n\u001b[0;32m----> 1\u001b[0m s5[\u001b[38;5;241m0\u001b[39m]\n",
      "\u001b[0;31mTypeError\u001b[0m: 'set' object is not subscriptable"
     ]
    }
   ],
   "source": [
    "s5[]"
   ]
  },
  {
   "cell_type": "code",
   "execution_count": 162,
   "id": "d6cdedd5",
   "metadata": {},
   "outputs": [],
   "source": [
    "s5.remove(12)"
   ]
  },
  {
   "cell_type": "code",
   "execution_count": 163,
   "id": "2dce1c92",
   "metadata": {},
   "outputs": [],
   "source": [
    "s5.remove(123)"
   ]
  },
  {
   "cell_type": "code",
   "execution_count": 164,
   "id": "7477905d",
   "metadata": {},
   "outputs": [
    {
     "data": {
      "text/plain": [
       "{212, 24, 32, 34, 4, 45, 'Tejas'}"
      ]
     },
     "execution_count": 164,
     "metadata": {},
     "output_type": "execute_result"
    }
   ],
   "source": [
    "s5"
   ]
  },
  {
   "cell_type": "code",
   "execution_count": 165,
   "id": "54313ff6",
   "metadata": {},
   "outputs": [],
   "source": [
    "s5.add(4)"
   ]
  },
  {
   "cell_type": "code",
   "execution_count": 170,
   "id": "0892c7d6",
   "metadata": {},
   "outputs": [],
   "source": [
    "s5.add(\"tejas\")"
   ]
  },
  {
   "cell_type": "code",
   "execution_count": 171,
   "id": "2691dd36",
   "metadata": {},
   "outputs": [
    {
     "data": {
      "text/plain": [
       "{212, 24, 32, 34, 4, 45, 'Tejas', 'tejas'}"
      ]
     },
     "execution_count": 171,
     "metadata": {},
     "output_type": "execute_result"
    }
   ],
   "source": [
    "s5"
   ]
  },
  {
   "cell_type": "code",
   "execution_count": 172,
   "id": "bdfe54fb",
   "metadata": {},
   "outputs": [
    {
     "data": {
      "text/plain": [
       "{212, 24, 32, 34, 4, 45, 'Tejas', 'tejas'}"
      ]
     },
     "execution_count": 172,
     "metadata": {},
     "output_type": "execute_result"
    }
   ],
   "source": [
    "s5"
   ]
  },
  {
   "cell_type": "code",
   "execution_count": 174,
   "id": "19284d30",
   "metadata": {},
   "outputs": [],
   "source": [
    "l5 = s5"
   ]
  },
  {
   "cell_type": "code",
   "execution_count": 176,
   "id": "9736f4f4",
   "metadata": {},
   "outputs": [],
   "source": [
    "l5.add(12)"
   ]
  },
  {
   "cell_type": "code",
   "execution_count": 177,
   "id": "8f278321",
   "metadata": {},
   "outputs": [
    {
     "data": {
      "text/plain": [
       "{12, 212, 24, 32, 34, 4, 45, 'Tejas', 'tejas'}"
      ]
     },
     "execution_count": 177,
     "metadata": {},
     "output_type": "execute_result"
    }
   ],
   "source": [
    "l5"
   ]
  },
  {
   "cell_type": "code",
   "execution_count": 178,
   "id": "02931b57",
   "metadata": {},
   "outputs": [],
   "source": [
    "l = [12,34,34,34,34,23]"
   ]
  },
  {
   "cell_type": "code",
   "execution_count": 181,
   "id": "3370ff83",
   "metadata": {},
   "outputs": [],
   "source": [
    "l.insert(-1,\"Tejas\")"
   ]
  },
  {
   "cell_type": "code",
   "execution_count": 182,
   "id": "bb1cf266",
   "metadata": {},
   "outputs": [
    {
     "data": {
      "text/plain": [
       "[12, 34, 34, 34, 34, 'tejas', 'Tejas', 23]"
      ]
     },
     "execution_count": 182,
     "metadata": {},
     "output_type": "execute_result"
    }
   ],
   "source": [
    "l"
   ]
  },
  {
   "cell_type": "code",
   "execution_count": 183,
   "id": "8cc2d5d9",
   "metadata": {},
   "outputs": [
    {
     "data": {
      "text/plain": [
       "'tejas'"
      ]
     },
     "execution_count": 183,
     "metadata": {},
     "output_type": "execute_result"
    }
   ],
   "source": [
    "l.pop(5)"
   ]
  },
  {
   "cell_type": "code",
   "execution_count": 184,
   "id": "93613ca9",
   "metadata": {},
   "outputs": [
    {
     "data": {
      "text/plain": [
       "[12, 34, 34, 34, 34, 'Tejas', 23]"
      ]
     },
     "execution_count": 184,
     "metadata": {},
     "output_type": "execute_result"
    }
   ],
   "source": [
    "l"
   ]
  },
  {
   "cell_type": "code",
   "execution_count": null,
   "id": "7782826b",
   "metadata": {},
   "outputs": [],
   "source": []
  }
 ],
 "metadata": {
  "kernelspec": {
   "display_name": "Python 3 (ipykernel)",
   "language": "python",
   "name": "python3"
  },
  "language_info": {
   "codemirror_mode": {
    "name": "ipython",
    "version": 3
   },
   "file_extension": ".py",
   "mimetype": "text/x-python",
   "name": "python",
   "nbconvert_exporter": "python",
   "pygments_lexer": "ipython3",
   "version": "3.11.3"
  }
 },
 "nbformat": 4,
 "nbformat_minor": 5
}
